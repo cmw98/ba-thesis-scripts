{
 "cells": [
  {
   "cell_type": "code",
   "execution_count": 1,
   "id": "ab5cd936",
   "metadata": {},
   "outputs": [],
   "source": [
    "from pytorch_msssim import ssim, ms_ssim, SSIM, MS_SSIM\n",
    "from PIL import Image\n",
    "import torch\n",
    "import torch.nn as nn\n",
    "import torch.optim as optim\n",
    "import numpy as np\n",
    "from torchvision.io import read_image\n",
    "\n",
    "import cv2\n",
    "import pandas as pd\n",
    "from tabulate import tabulate"
   ]
  },
  {
   "cell_type": "code",
   "execution_count": 2,
   "id": "3359be4f",
   "metadata": {},
   "outputs": [],
   "source": [
    "testdata_dir = \"./fsr-samples\""
   ]
  },
  {
   "cell_type": "code",
   "execution_count": 3,
   "id": "9514ad12",
   "metadata": {},
   "outputs": [
    {
     "ename": "RuntimeError",
     "evalue": "No such operator image::read_file",
     "output_type": "error",
     "traceback": [
      "\u001b[0;31m---------------------------------------------------------------------------\u001b[0m",
      "\u001b[0;31mRuntimeError\u001b[0m                              Traceback (most recent call last)",
      "\u001b[0;32m/tmp/ipykernel_3039/1182072445.py\u001b[0m in \u001b[0;36m<module>\u001b[0;34m\u001b[0m\n\u001b[1;32m      4\u001b[0m \u001b[0;32mfor\u001b[0m \u001b[0mi\u001b[0m \u001b[0;32min\u001b[0m \u001b[0mrange\u001b[0m\u001b[0;34m(\u001b[0m\u001b[0;36m1\u001b[0m\u001b[0;34m,\u001b[0m\u001b[0;36m9\u001b[0m\u001b[0;34m)\u001b[0m\u001b[0;34m:\u001b[0m\u001b[0;34m\u001b[0m\u001b[0;34m\u001b[0m\u001b[0m\n\u001b[1;32m      5\u001b[0m \u001b[0;34m\u001b[0m\u001b[0m\n\u001b[0;32m----> 6\u001b[0;31m     \u001b[0mimg_native\u001b[0m \u001b[0;34m=\u001b[0m \u001b[0mread_image\u001b[0m\u001b[0;34m(\u001b[0m\u001b[0;34mf\"{testdata_dir}/{i}-native.png\"\u001b[0m\u001b[0;34m)\u001b[0m\u001b[0;34m.\u001b[0m\u001b[0mfloat\u001b[0m\u001b[0;34m(\u001b[0m\u001b[0;34m)\u001b[0m\u001b[0;34m.\u001b[0m\u001b[0munsqueeze\u001b[0m\u001b[0;34m(\u001b[0m\u001b[0;36m0\u001b[0m\u001b[0;34m)\u001b[0m\u001b[0;34m.\u001b[0m\u001b[0mcuda\u001b[0m\u001b[0;34m(\u001b[0m\u001b[0;34m)\u001b[0m\u001b[0;34m\u001b[0m\u001b[0;34m\u001b[0m\u001b[0m\n\u001b[0m\u001b[1;32m      7\u001b[0m     \u001b[0mimg_native_cv2\u001b[0m \u001b[0;34m=\u001b[0m \u001b[0mcv2\u001b[0m\u001b[0;34m.\u001b[0m\u001b[0mimread\u001b[0m\u001b[0;34m(\u001b[0m\u001b[0;34mf\"{testdata_dir}/{i}-native.png\"\u001b[0m\u001b[0;34m)\u001b[0m\u001b[0;34m\u001b[0m\u001b[0;34m\u001b[0m\u001b[0m\n\u001b[1;32m      8\u001b[0m     \u001b[0;32mfor\u001b[0m \u001b[0mquality\u001b[0m \u001b[0;32min\u001b[0m \u001b[0mqualities\u001b[0m\u001b[0;34m:\u001b[0m\u001b[0;34m\u001b[0m\u001b[0;34m\u001b[0m\u001b[0m\n",
      "\u001b[0;32m~/.local/lib/python3.9/site-packages/torchvision/io/image.py\u001b[0m in \u001b[0;36mread_image\u001b[0;34m(path, mode)\u001b[0m\n\u001b[1;32m    257\u001b[0m         \u001b[0moutput\u001b[0m \u001b[0;34m(\u001b[0m\u001b[0mTensor\u001b[0m\u001b[0;34m[\u001b[0m\u001b[0mimage_channels\u001b[0m\u001b[0;34m,\u001b[0m \u001b[0mimage_height\u001b[0m\u001b[0;34m,\u001b[0m \u001b[0mimage_width\u001b[0m\u001b[0;34m]\u001b[0m\u001b[0;34m)\u001b[0m\u001b[0;34m\u001b[0m\u001b[0;34m\u001b[0m\u001b[0m\n\u001b[1;32m    258\u001b[0m     \"\"\"\n\u001b[0;32m--> 259\u001b[0;31m     \u001b[0mdata\u001b[0m \u001b[0;34m=\u001b[0m \u001b[0mread_file\u001b[0m\u001b[0;34m(\u001b[0m\u001b[0mpath\u001b[0m\u001b[0;34m)\u001b[0m\u001b[0;34m\u001b[0m\u001b[0;34m\u001b[0m\u001b[0m\n\u001b[0m\u001b[1;32m    260\u001b[0m     \u001b[0;32mreturn\u001b[0m \u001b[0mdecode_image\u001b[0m\u001b[0;34m(\u001b[0m\u001b[0mdata\u001b[0m\u001b[0;34m,\u001b[0m \u001b[0mmode\u001b[0m\u001b[0;34m)\u001b[0m\u001b[0;34m\u001b[0m\u001b[0;34m\u001b[0m\u001b[0m\n",
      "\u001b[0;32m~/.local/lib/python3.9/site-packages/torchvision/io/image.py\u001b[0m in \u001b[0;36mread_file\u001b[0;34m(path)\u001b[0m\n\u001b[1;32m     77\u001b[0m         \u001b[0mdata\u001b[0m \u001b[0;34m(\u001b[0m\u001b[0mTensor\u001b[0m\u001b[0;34m)\u001b[0m\u001b[0;34m\u001b[0m\u001b[0;34m\u001b[0m\u001b[0m\n\u001b[1;32m     78\u001b[0m     \"\"\"\n\u001b[0;32m---> 79\u001b[0;31m     \u001b[0mdata\u001b[0m \u001b[0;34m=\u001b[0m \u001b[0mtorch\u001b[0m\u001b[0;34m.\u001b[0m\u001b[0mops\u001b[0m\u001b[0;34m.\u001b[0m\u001b[0mimage\u001b[0m\u001b[0;34m.\u001b[0m\u001b[0mread_file\u001b[0m\u001b[0;34m(\u001b[0m\u001b[0mpath\u001b[0m\u001b[0;34m)\u001b[0m\u001b[0;34m\u001b[0m\u001b[0;34m\u001b[0m\u001b[0m\n\u001b[0m\u001b[1;32m     80\u001b[0m     \u001b[0;32mreturn\u001b[0m \u001b[0mdata\u001b[0m\u001b[0;34m\u001b[0m\u001b[0;34m\u001b[0m\u001b[0m\n\u001b[1;32m     81\u001b[0m \u001b[0;34m\u001b[0m\u001b[0m\n",
      "\u001b[0;32m~/.conda/envs/venv-ba/lib/python3.9/site-packages/torch/_ops.py\u001b[0m in \u001b[0;36m__getattr__\u001b[0;34m(self, op_name)\u001b[0m\n\u001b[1;32m     61\u001b[0m         \u001b[0;31m# for overloads and raise an exception if there are more than one.\u001b[0m\u001b[0;34m\u001b[0m\u001b[0;34m\u001b[0m\u001b[0m\n\u001b[1;32m     62\u001b[0m         \u001b[0mqualified_op_name\u001b[0m \u001b[0;34m=\u001b[0m \u001b[0;34m'{}::{}'\u001b[0m\u001b[0;34m.\u001b[0m\u001b[0mformat\u001b[0m\u001b[0;34m(\u001b[0m\u001b[0mself\u001b[0m\u001b[0;34m.\u001b[0m\u001b[0mname\u001b[0m\u001b[0;34m,\u001b[0m \u001b[0mop_name\u001b[0m\u001b[0;34m)\u001b[0m\u001b[0;34m\u001b[0m\u001b[0;34m\u001b[0m\u001b[0m\n\u001b[0;32m---> 63\u001b[0;31m         \u001b[0mop\u001b[0m \u001b[0;34m=\u001b[0m \u001b[0mtorch\u001b[0m\u001b[0;34m.\u001b[0m\u001b[0m_C\u001b[0m\u001b[0;34m.\u001b[0m\u001b[0m_jit_get_operation\u001b[0m\u001b[0;34m(\u001b[0m\u001b[0mqualified_op_name\u001b[0m\u001b[0;34m)\u001b[0m\u001b[0;34m\u001b[0m\u001b[0;34m\u001b[0m\u001b[0m\n\u001b[0m\u001b[1;32m     64\u001b[0m         \u001b[0;31m# let the script frontend know that op is identical to the builtin op\u001b[0m\u001b[0;34m\u001b[0m\u001b[0;34m\u001b[0m\u001b[0m\n\u001b[1;32m     65\u001b[0m         \u001b[0;31m# with qualified_op_name\u001b[0m\u001b[0;34m\u001b[0m\u001b[0;34m\u001b[0m\u001b[0m\n",
      "\u001b[0;31mRuntimeError\u001b[0m: No such operator image::read_file"
     ]
    }
   ],
   "source": [
    "msssim = MS_SSIM(data_range=255, channel=3, size_average=True)\n",
    "results = []\n",
    "qualities = [\"q2\", \"q3\", \"q4\", \"q5\", \"q2-sharpened\", \"q3-sharpened\", \"q4-sharpened\", \"q5-sharpened\"]\n",
    "for i in range(1,9):\n",
    "    \n",
    "    img_native = read_image(f\"{testdata_dir}/{i}-native.png\").float().unsqueeze(0).cuda()\n",
    "    img_native_cv2 = cv2.imread(f\"{testdata_dir}/{i}-native.png\")\n",
    "    for quality in qualities:\n",
    "        result = []\n",
    "        img = read_image(f\"{testdata_dir}/{i}-{quality}.png\").float().unsqueeze(0).cuda()\n",
    "        results[i][quality][\"msssim\"] = msssim(img_native, img)\n",
    "        print(f\"Evaluated image #{i} quality {quality} against MS-SSIM\")\n",
    "    \n",
    "        img_cv2 = cv2.imread(f\"{testdata_dir}/{i}-{quality}.png\")\n",
    "        psnr = cv2.PSNR(img_native_cv2, img_cv2)\n",
    "        print(f\"Evaluated image #{i} against PSNR\")\n",
    "        \n",
    "        result.append(i);\n",
    "        result.append(quality[0:2])\n",
    "        result.append(quality.endswith(\"sharpened\"))\n",
    "        result.append(psnr)\n",
    "        results.append(result)"
   ]
  },
  {
   "cell_type": "code",
   "execution_count": null,
   "id": "3f280aa5",
   "metadata": {},
   "outputs": [],
   "source": [
    "df = pd.DataFrame(results, columns = ['Image', 'Quality', 'Sharpened', 'PSNR'])\n",
    "print(tabulate(df, headers='keys', tablefmt='psql'))"
   ]
  },
  {
   "cell_type": "code",
   "execution_count": null,
   "id": "c198859d",
   "metadata": {},
   "outputs": [],
   "source": [
    "# img_native = read_image(\"01-native.png\").float().unsqueeze(0)\n",
    "# img_bilinear = read_image(\"01-bilinear.png\").float().unsqueeze(0)\n",
    "# img_q2 = read_image(\"01-q2.png\").float().unsqueeze(0)\n",
    "# img_q3 = read_image(\"01-q3.png\").float().unsqueeze(0)\n",
    "# img_q4 = read_image(\"01-q4.png\").float().unsqueeze(0)\n",
    "# img_q5 = read_image(\"01-q5.png\").float().unsqueeze(0)"
   ]
  },
  {
   "cell_type": "code",
   "execution_count": null,
   "id": "c4d1485a",
   "metadata": {},
   "outputs": [],
   "source": [
    "# msssim = MS_SSIM(data_range=255, channel=3)\n",
    "# msssim_bilinear = msssim(img_native, img_bilinear)\n",
    "# msssim_q2 = msssim(img_native, img_q2)\n",
    "# msssim_q3 = msssim(img_native, img_q3)\n",
    "# msssim_q4 = msssim(img_native, img_q4)\n",
    "# msssim_q5 = msssim(img_native, img_q5)"
   ]
  },
  {
   "cell_type": "code",
   "execution_count": null,
   "id": "8f0a1af1",
   "metadata": {},
   "outputs": [],
   "source": [
    "# print(f\"Bilinear MS-SSIM: {msssim_bilinear}\")\n",
    "# print(f\"Q2 MS-SSIM: {msssim_q2}\")\n",
    "# print(f\"Q3 MS-SSIM: {msssim_q3}\")\n",
    "# print(f\"Q4 MS-SSIM: {msssim_q4}\")\n",
    "# print(f\"Q5 MS-SSIM: {msssim_q5}\")"
   ]
  },
  {
   "cell_type": "code",
   "execution_count": null,
   "id": "59cb8a31",
   "metadata": {},
   "outputs": [],
   "source": [
    "# img_native = cv2.imread(\"01-native.png\")\n",
    "# img_bilinear = cv2.imread(\"01-bilinear.png\")\n",
    "# img_q2 = cv2.imread(\"01-q2.png\")\n",
    "# img_q3 = cv2.imread(\"01-q3.png\")\n",
    "# img_q4 = cv2.imread(\"01-q4.png\")\n",
    "# img_q5 = cv2.imread(\"01-q5.png\")"
   ]
  },
  {
   "cell_type": "code",
   "execution_count": null,
   "id": "3f4f2063",
   "metadata": {},
   "outputs": [],
   "source": [
    "# psnr_bilinear = cv2.PSNR(img_native, img_bilinear)\n",
    "# psnr_q2 = cv2.PSNR(img_native, img_q2)\n",
    "# psnr_q3 = cv2.PSNR(img_native, img_q3)\n",
    "# psnr_q4 = cv2.PSNR(img_native, img_q4)\n",
    "# psnr_q5 = cv2.PSNR(img_native, img_q5)"
   ]
  },
  {
   "cell_type": "code",
   "execution_count": null,
   "id": "e7ebc76a",
   "metadata": {},
   "outputs": [],
   "source": [
    "# print(f\"Bilinear PSNR: {psnr_bilinear}\")\n",
    "# print(f\"Q2 PSNR: {psnr_q2}\")\n",
    "# print(f\"Q3 PSNR: {psnr_q3}\")\n",
    "# print(f\"Q4 PSNR: {psnr_q4}\")\n",
    "# print(f\"Q5 PSNR: {psnr_q5}\")"
   ]
  },
  {
   "cell_type": "code",
   "execution_count": null,
   "id": "5e84e8bc",
   "metadata": {},
   "outputs": [],
   "source": []
  }
 ],
 "metadata": {
  "kernelspec": {
   "display_name": "Python 3 (ipykernel)",
   "language": "python",
   "name": "python3"
  },
  "language_info": {
   "codemirror_mode": {
    "name": "ipython",
    "version": 3
   },
   "file_extension": ".py",
   "mimetype": "text/x-python",
   "name": "python",
   "nbconvert_exporter": "python",
   "pygments_lexer": "ipython3",
   "version": "3.9.13"
  }
 },
 "nbformat": 4,
 "nbformat_minor": 5
}
